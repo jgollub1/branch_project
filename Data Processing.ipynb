{
 "cells": [
  {
   "cell_type": "code",
   "execution_count": 2,
   "metadata": {
    "collapsed": true
   },
   "outputs": [],
   "source": [
    "import pandas as pd\n",
    "import os\n",
    "import json\n",
    "from collections import defaultdict\n",
    "\n",
    "status_df = pd.read_csv('user_logs/user_status.csv')"
   ]
  },
  {
   "cell_type": "code",
   "execution_count": 3,
   "metadata": {
    "collapsed": false
   },
   "outputs": [],
   "source": [
    "# get file paths of every single file\n",
    "file_paths = []\n",
    "for user_id in os.listdir('user_logs'):\n",
    "    if 'user-' not in user_id:\n",
    "        continue\n",
    "\n",
    "    for device in os.listdir('user_logs/'+user_id):  \n",
    "        if 'device-' not in device:\n",
    "            continue\n",
    "        path = '/'.join(['user_logs', user_id, device])\n",
    "        f_names = os.listdir(path)\n",
    "        file_paths += ['/'.join([path,f_name]) for f_name in f_names]"
   ]
  },
  {
   "cell_type": "code",
   "execution_count": 51,
   "metadata": {
    "collapsed": true
   },
   "outputs": [],
   "source": [
    "# create a dataframe for call, sms, contacts\n",
    "def generate_df(file_paths, d_type):\n",
    "    # filter file_paths by type\n",
    "    print 'generating {} dataframe ...'.format(d_type)\n",
    "    file_paths = [path for path in file_paths if '{}.txt'.format(d_type) in path]\n",
    "    user_info = []\n",
    "    \n",
    "    for file_path in file_paths:\n",
    "        f_dir, user_id, dev_id, f_name = file_path.split('/')\n",
    "        user_id = user_id.split('-')[1]\n",
    "        dev_id = dev_id.split('-')[1]\n",
    "\n",
    "        raw_data = open(file_path)\n",
    "        phone_log = json.loads(raw_data.read())\n",
    "        phone_log = pd.DataFrame(phone_log)\n",
    "        \n",
    "        if 'user_id' not in phone_log.columns:\n",
    "            phone_log.insert(0, 'user_id', user_id)\n",
    "        if 'dev_id' not in phone_log.columns:\n",
    "            phone_log.insert(1, 'dev_id', dev_id)\n",
    "\n",
    "        user_info.append(phone_log)\n",
    "    \n",
    "    final_df = pd.concat(user_info)\n",
    "    return final_df.reset_index(drop=True)"
   ]
  },
  {
   "cell_type": "code",
   "execution_count": 52,
   "metadata": {
    "collapsed": false
   },
   "outputs": [
    {
     "name": "stdout",
     "output_type": "stream",
     "text": [
      "call_log.txt\n",
      "sms_log.txt\n",
      "contact_list.txt\n"
     ]
    }
   ],
   "source": [
    "call_df = generate_df(file_paths, d_type='call_log')\n",
    "sms_df = generate_df(file_paths, d_type='sms_log')\n",
    "contact_df = generate_df(file_paths, d_type='contact_list')"
   ]
  },
  {
   "cell_type": "code",
   "execution_count": 54,
   "metadata": {
    "collapsed": true
   },
   "outputs": [],
   "source": [
    "call_df.to_csv('user_calls.csv', encoding='utf-8', index=False)\n",
    "sms_df.to_csv('user_sms.csv', encoding='utf-8', index=False)\n",
    "contact_df.to_csv('user_contacts.csv', encoding='utf-8', index=False)"
   ]
  },
  {
   "cell_type": "code",
   "execution_count": null,
   "metadata": {
    "collapsed": true
   },
   "outputs": [],
   "source": []
  },
  {
   "cell_type": "code",
   "execution_count": null,
   "metadata": {
    "collapsed": true
   },
   "outputs": [],
   "source": []
  },
  {
   "cell_type": "code",
   "execution_count": null,
   "metadata": {
    "collapsed": true
   },
   "outputs": [],
   "source": [
    "# create call_log dataframe\n",
    "# call_paths = [path for path in file_paths if 'call_log.txt' in path]\n",
    "\n",
    "# user_calls = []\n",
    "# for call_path in call_paths:\n",
    "#     f_dir, user_id, dev_id, f_name = call_path.split('/')\n",
    "#     user_id = user_id.split('-')[1]\n",
    "#     dev_id = dev_id.split('-')[1]\n",
    "    \n",
    "#     raw_data = open(call_path)\n",
    "#     call_log = json.loads(raw_data.read())\n",
    "#     call_log = pd.DataFrame(call_log)\n",
    "#     call_log.insert(0, 'user_id', user_id)\n",
    "#     call_log.insert(1, 'dev_id', dev_id)\n",
    "    \n",
    "#     user_calls.append(call_log)\n",
    "\n",
    "# call_df = pd.concat(user_calls).reset_index(drop=True)\n",
    "# call_df.to_csv('user_calls.csv', encoding='utf-8', index=False)\n",
    "# call_df.head()"
   ]
  }
 ],
 "metadata": {
  "kernelspec": {
   "display_name": "Python 2",
   "language": "python",
   "name": "python2"
  },
  "language_info": {
   "codemirror_mode": {
    "name": "ipython",
    "version": 2
   },
   "file_extension": ".py",
   "mimetype": "text/x-python",
   "name": "python",
   "nbconvert_exporter": "python",
   "pygments_lexer": "ipython2",
   "version": "2.7.9"
  }
 },
 "nbformat": 4,
 "nbformat_minor": 2
}
