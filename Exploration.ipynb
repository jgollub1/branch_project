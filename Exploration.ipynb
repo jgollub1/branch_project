{
 "cells": [
  {
   "cell_type": "code",
   "execution_count": 65,
   "metadata": {
    "collapsed": false,
    "scrolled": true
   },
   "outputs": [
    {
     "data": {
      "text/html": [
       "<div>\n",
       "<table border=\"1\" class=\"dataframe\">\n",
       "  <thead>\n",
       "    <tr style=\"text-align: right;\">\n",
       "      <th></th>\n",
       "      <th>user_id</th>\n",
       "      <th>count</th>\n",
       "      <th>avg_duration</th>\n",
       "      <th>disbursement_date</th>\n",
       "      <th>status</th>\n",
       "    </tr>\n",
       "  </thead>\n",
       "  <tbody>\n",
       "    <tr>\n",
       "      <th>0</th>\n",
       "      <td>1</td>\n",
       "      <td>182</td>\n",
       "      <td>30.351648</td>\n",
       "      <td>2017-05-29T00:00:00.000Z</td>\n",
       "      <td>False</td>\n",
       "    </tr>\n",
       "    <tr>\n",
       "      <th>1</th>\n",
       "      <td>2</td>\n",
       "      <td>1423</td>\n",
       "      <td>63.882642</td>\n",
       "      <td>2017-05-30T00:00:00.000Z</td>\n",
       "      <td>True</td>\n",
       "    </tr>\n",
       "    <tr>\n",
       "      <th>2</th>\n",
       "      <td>3</td>\n",
       "      <td>442</td>\n",
       "      <td>25.228507</td>\n",
       "      <td>2017-05-26T00:00:00.000Z</td>\n",
       "      <td>False</td>\n",
       "    </tr>\n",
       "    <tr>\n",
       "      <th>3</th>\n",
       "      <td>4</td>\n",
       "      <td>1775</td>\n",
       "      <td>68.736901</td>\n",
       "      <td>2017-05-31T00:00:00.000Z</td>\n",
       "      <td>True</td>\n",
       "    </tr>\n",
       "    <tr>\n",
       "      <th>4</th>\n",
       "      <td>5</td>\n",
       "      <td>2356</td>\n",
       "      <td>33.780136</td>\n",
       "      <td>2017-05-30T00:00:00.000Z</td>\n",
       "      <td>True</td>\n",
       "    </tr>\n",
       "  </tbody>\n",
       "</table>\n",
       "</div>"
      ],
      "text/plain": [
       "   user_id  count  avg_duration         disbursement_date status\n",
       "0        1    182     30.351648  2017-05-29T00:00:00.000Z  False\n",
       "1        2   1423     63.882642  2017-05-30T00:00:00.000Z   True\n",
       "2        3    442     25.228507  2017-05-26T00:00:00.000Z  False\n",
       "3        4   1775     68.736901  2017-05-31T00:00:00.000Z   True\n",
       "4        5   2356     33.780136  2017-05-30T00:00:00.000Z   True"
      ]
     },
     "execution_count": 65,
     "metadata": {},
     "output_type": "execute_result"
    }
   ],
   "source": [
    "import numpy as np\n",
    "import pandas as pd\n",
    "import scipy.stats as sp\n",
    "\n",
    "call_df = pd.read_csv('user_calls.csv')\n",
    "status_df = pd.read_csv('user_logs/user_status.csv')\n",
    "\n",
    "# calculate call count, average duration\n",
    "group_df = call_df.groupby(by=['user_id'])['duration'].agg({'count': len, 'avg_duration': np.mean}) #'total': np.sum\n",
    "group_df = pd.DataFrame(group_df)\n",
    "group_df.insert(0, 'user_id', group_df.index)\n",
    "group_df = group_df.merge(status_df, on=['user_id'])\n",
    "group_df['status'] = group_df['status'] == 'repaid'\n",
    "\n",
    "group_df.head()"
   ]
  },
  {
   "cell_type": "code",
   "execution_count": 57,
   "metadata": {
    "collapsed": false
   },
   "outputs": [
    {
     "data": {
      "text/plain": [
       "(0.49660726895147334, 2.6816364348235857e-26)"
      ]
     },
     "execution_count": 57,
     "metadata": {},
     "output_type": "execute_result"
    }
   ],
   "source": [
    "# clear positive association between number of calls and loan status\n",
    "sp.pearsonr(group_df['total'], group_df['status'])"
   ]
  },
  {
   "cell_type": "code",
   "execution_count": 64,
   "metadata": {
    "collapsed": false
   },
   "outputs": [
    {
     "data": {
      "text/plain": [
       "count      400.000000\n",
       "mean      1588.225000\n",
       "std       1704.651581\n",
       "min          4.000000\n",
       "25%        500.000000\n",
       "50%       1000.000000\n",
       "75%       2137.250000\n",
       "max      11821.000000\n",
       "Name: count, dtype: float64"
      ]
     },
     "execution_count": 64,
     "metadata": {},
     "output_type": "execute_result"
    }
   ],
   "source": [
    "group_df['count'].describe()"
   ]
  },
  {
   "cell_type": "code",
   "execution_count": 63,
   "metadata": {
    "collapsed": false
   },
   "outputs": [
    {
     "name": "stdout",
     "output_type": "stream",
     "text": [
      "reimbursement rate (>=1000 calls): 0.740196078431\n",
      "reimbursement rate (<1000 calls):  0.25\n",
      "reimbursement rate (>=1500 calls): 0.845070422535\n",
      "reimbursement rate (<500 calls):   0.229885057471\n"
     ]
    }
   ],
   "source": [
    "sub1 = group_df[group_df['count'] >= 1000]\n",
    "sub2 = group_df[group_df['count'] < 1000]\n",
    "sub3 = group_df[group_df['count'] >= 1500]\n",
    "sub4 = group_df[group_df['count'] < 500]\n",
    "\n",
    "print 'reimbursement rate (>=1000 calls):',sum(sub1['status'])/float(len(sub1))\n",
    "print 'reimbursement rate (<1000 calls): ',sum(sub2['status'])/float(len(sub2))\n",
    "print 'reimbursement rate (>=1500 calls):',sum(sub3['status'])/float(len(sub3))\n",
    "print 'reimbursement rate (<500 calls):  ',sum(sub4['status'])/float(len(sub4))"
   ]
  },
  {
   "cell_type": "code",
   "execution_count": 66,
   "metadata": {
    "collapsed": false
   },
   "outputs": [
    {
     "data": {
      "text/plain": [
       "(0.16426526977387562, 0.00097566977993749336)"
      ]
     },
     "execution_count": 66,
     "metadata": {},
     "output_type": "execute_result"
    }
   ],
   "source": [
    "# much weaker association with average duration; tried total duration but found no added insights\n",
    "sp.pearsonr(group_df['avg_duration'], group_df['status'])"
   ]
  },
  {
   "cell_type": "code",
   "execution_count": null,
   "metadata": {
    "collapsed": true
   },
   "outputs": [],
   "source": []
  }
 ],
 "metadata": {
  "kernelspec": {
   "display_name": "Python 2",
   "language": "python",
   "name": "python2"
  },
  "language_info": {
   "codemirror_mode": {
    "name": "ipython",
    "version": 2
   },
   "file_extension": ".py",
   "mimetype": "text/x-python",
   "name": "python",
   "nbconvert_exporter": "python",
   "pygments_lexer": "ipython2",
   "version": "2.7.9"
  }
 },
 "nbformat": 4,
 "nbformat_minor": 2
}
